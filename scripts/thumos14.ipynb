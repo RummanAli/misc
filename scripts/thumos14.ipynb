{
 "cells": [
  {
   "cell_type": "code",
   "execution_count": 1,
   "metadata": {},
   "outputs": [],
   "source": [
    "import pandas as pd\n",
    "df = pd.read_csv('/home/ubuntu/Furqan/new_dataset/weller_only/20231011_weller_only_combined_valtest_ke_activity_val_avastyle_17.csv')"
   ]
  },
  {
   "cell_type": "code",
   "execution_count": 2,
   "metadata": {},
   "outputs": [
    {
     "data": {
      "text/plain": [
       "array([ 5,  6,  4,  1, 11, 13,  7, 14,  3,  8, 15])"
      ]
     },
     "execution_count": 2,
     "metadata": {},
     "output_type": "execute_result"
    }
   ],
   "source": [
    "df.iloc[:,6].unique()"
   ]
  },
  {
   "cell_type": "code",
   "execution_count": 3,
   "metadata": {},
   "outputs": [
    {
     "data": {
      "text/plain": [
       "activity_nov2022_121742-122142_1    activity_nov2022_121742-122142_1\n",
       "0                                                                  1\n",
       "0.0                                                              0.0\n",
       "0.712                                                          0.697\n",
       "0.049                                                           0.05\n",
       "0.848                                                          0.847\n",
       "5                                                                  5\n",
       "0.1                                                                0\n",
       "Name: 0, dtype: object"
      ]
     },
     "execution_count": 3,
     "metadata": {},
     "output_type": "execute_result"
    }
   ],
   "source": [
    "df.loc[0]"
   ]
  },
  {
   "cell_type": "code",
   "execution_count": 25,
   "metadata": {},
   "outputs": [
    {
     "name": "stdout",
     "output_type": "stream",
     "text": [
      "0\n"
     ]
    }
   ],
   "source": [
    "a = df[df.iloc[:,6]==16]\n",
    "print(len(a)) #298 0 120 1556 1161 1792 384 40 0 0 95 0 313 145 93 "
   ]
  },
  {
   "cell_type": "code",
   "execution_count": 5,
   "metadata": {},
   "outputs": [
    {
     "name": "stdout",
     "output_type": "stream",
     "text": [
      "6\n",
      "0\n",
      "1\n",
      "12\n",
      "13\n",
      "9\n",
      "5\n",
      "2\n",
      "0\n",
      "0\n",
      "2\n",
      "0\n",
      "6\n",
      "4\n"
     ]
    }
   ],
   "source": [
    "def ranges(nums):\n",
    "    nums = sorted(set(nums))\n",
    "    gaps = [[s, e] for s, e in zip(nums, nums[1:]) if s+1 < e]\n",
    "    edges = iter(nums[:1] + sum(gaps, []) + nums[-1:])\n",
    "    return list(zip(edges, edges))\n",
    "\n",
    "for cls in range(1,15):\n",
    "    final_list = []\n",
    "    frames = df[df.iloc[:,6]==cls]\n",
    "    videos = frames.iloc[:,0].unique()\n",
    "    for video in videos:\n",
    "        frame_list = frames[frames.iloc[:,0]==video]\n",
    "        intervals = ranges(frame_list.iloc[:,1].tolist())\n",
    "        for interval in intervals:\n",
    "            start,stop = interval\n",
    "            final_list.append((video,start,stop))\n",
    "    print(len(final_list))"
   ]
  },
  {
   "cell_type": "code",
   "execution_count": null,
   "metadata": {},
   "outputs": [],
   "source": []
  }
 ],
 "metadata": {
  "kernelspec": {
   "display_name": "atrain",
   "language": "python",
   "name": "python3"
  },
  "language_info": {
   "codemirror_mode": {
    "name": "ipython",
    "version": 3
   },
   "file_extension": ".py",
   "mimetype": "text/x-python",
   "name": "python",
   "nbconvert_exporter": "python",
   "pygments_lexer": "ipython3",
   "version": "3.9.17"
  }
 },
 "nbformat": 4,
 "nbformat_minor": 2
}
