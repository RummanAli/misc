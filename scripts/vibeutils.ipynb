{
 "cells": [
  {
   "cell_type": "code",
   "execution_count": null,
   "metadata": {},
   "outputs": [],
   "source": [
    "import joblib"
   ]
  },
  {
   "cell_type": "code",
   "execution_count": null,
   "metadata": {},
   "outputs": [],
   "source": [
    "vibe_output_path = \"/home/ubuntu/Rumman/surreact/datageneration/surreact_project/surreact/data/vibe_output.pkl\"\n",
    "vibe_output = joblib.load(open(vibe_output_path, \"rb\"))\n",
    "vibe_output = vibe_output[0]\n",
    "num_frames = vibe_output[\"pose\"].shape[0]\n",
    "print(\"num_frames:\")\n",
    "print(num_frames)"
   ]
  },
  {
   "cell_type": "code",
   "execution_count": null,
   "metadata": {},
   "outputs": [],
   "source": []
  }
 ],
 "metadata": {
  "kernelspec": {
   "display_name": "extra_blender_env",
   "language": "python",
   "name": "python3"
  },
  "language_info": {
   "name": "python",
   "version": "3.9.17"
  }
 },
 "nbformat": 4,
 "nbformat_minor": 2
}
